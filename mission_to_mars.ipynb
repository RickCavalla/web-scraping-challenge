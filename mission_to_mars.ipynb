{
 "cells": [
  {
   "cell_type": "code",
   "execution_count": 1,
   "metadata": {},
   "outputs": [],
   "source": [
    "import pandas as pd\n",
    "from splinter import Browser\n",
    "from bs4 import BeautifulSoup\n",
    "import requests\n",
    "import os\n",
    "import pymongo\n",
    "from pprint import pprint\n",
    "import time\n",
    "\n",
    "# Set this to False in the .py that does actual scraping\n",
    "debug_mode = True"
   ]
  },
  {
   "cell_type": "code",
   "execution_count": 2,
   "metadata": {},
   "outputs": [],
   "source": [
    "executable_path = {'executable_path': 'chromedriver.exe'}\n",
    "browser = Browser('chrome', **executable_path, headless=False)"
   ]
  },
  {
   "cell_type": "code",
   "execution_count": 3,
   "metadata": {},
   "outputs": [],
   "source": [
    "# Mars News\n",
    "url = 'https://mars.nasa.gov/news/'\n",
    "\n",
    "browser.visit(url)\n",
    "\n",
    "# it takes a second for javascript to run and generate html of page\n",
    "time.sleep(1)\n",
    "\n",
    "html = browser.html"
   ]
  },
  {
   "cell_type": "code",
   "execution_count": 4,
   "metadata": {},
   "outputs": [],
   "source": [
    "# Create BeautifulSoup object\n",
    "soup = BeautifulSoup(html, 'html.parser')"
   ]
  },
  {
   "cell_type": "code",
   "execution_count": 5,
   "metadata": {},
   "outputs": [
    {
     "name": "stdout",
     "output_type": "stream",
     "text": [
      "NASA's Mars 2020 Comes Full Circle\n"
     ]
    }
   ],
   "source": [
    "# grab text of first article anchor in list\n",
    "news_title = soup.find(\"div\", class_=\"list_text\").a.text\n",
    "\n",
    "if debug_mode:\n",
    "    print(news_title)"
   ]
  },
  {
   "cell_type": "code",
   "execution_count": 6,
   "metadata": {},
   "outputs": [
    {
     "name": "stdout",
     "output_type": "stream",
     "text": [
      "Aiming to pinpoint the Martian vehicle's center of gravity, engineers took NASA's 2,300-pound Mars 2020 rover for a spin in the clean room at JPL. \n"
     ]
    }
   ],
   "source": [
    "# grab text of first article teaser in list\n",
    "news_p = soup.find(\"div\", class_=\"article_teaser_body\").text\n",
    "\n",
    "if debug_mode:\n",
    "    print(news_p)"
   ]
  },
  {
   "cell_type": "code",
   "execution_count": 7,
   "metadata": {},
   "outputs": [],
   "source": [
    "# Jet Propulsion Laboratory images\n",
    "base_url = 'https://www.jpl.nasa.gov'\n",
    "soup_url = 'https://www.jpl.nasa.gov/spaceimages/?search=&category=Mars'\n",
    "\n",
    "browser.visit(soup_url)\n",
    "\n",
    "time.sleep(1)\n",
    "\n",
    "html = browser.html"
   ]
  },
  {
   "cell_type": "code",
   "execution_count": null,
   "metadata": {},
   "outputs": [],
   "source": [
    "soup = BeautifulSoup(html, 'html.parser')"
   ]
  },
  {
   "cell_type": "code",
   "execution_count": null,
   "metadata": {},
   "outputs": [],
   "source": [
    "# a \"fancybox\" button links to full size image\n",
    "# get href link of that button\n",
    "\n",
    "img_anchor = soup.find(\"a\", class_=\"button fancybox\")\n",
    "featured_img_url = base_url + img_anchor.get(\"data-fancybox-href\")\n",
    "\n",
    "if debug_mode:\n",
    "    print(featured_img_url)"
   ]
  },
  {
   "cell_type": "code",
   "execution_count": null,
   "metadata": {},
   "outputs": [],
   "source": [
    "# Mars weather Twitter\n",
    "base_url = 'https://twitter.com/marswxreport'\n",
    "soup_url = 'https://twitter.com/marswxreport?lang=en'\n",
    "\n",
    "browser.visit(soup_url)\n",
    "\n",
    "time.sleep(1)\n",
    "\n",
    "html = browser.html"
   ]
  },
  {
   "cell_type": "code",
   "execution_count": null,
   "metadata": {},
   "outputs": [],
   "source": [
    "soup = BeautifulSoup(html, 'html.parser')"
   ]
  },
  {
   "cell_type": "code",
   "execution_count": null,
   "metadata": {},
   "outputs": [],
   "source": [
    "# Not all tweets are weather\n",
    "# but weather tweets seems to start with \"InSight\"\n",
    "# so find_all tweet texts and iterate until we find most recent tweet\n",
    "# that starts with \"InSight\"\n",
    "\n",
    "tweet_p = soup.find_all(\"p\", class_=\"tweet-text\")\n",
    "\n",
    "for tweet in tweet_p:\n",
    "    if tweet.text.startswith(\"InSight\"):\n",
    "        mars_weather = tweet.text\n",
    "        break\n",
    "\n",
    "if debug_mode:\n",
    "    print(mars_weather)"
   ]
  },
  {
   "cell_type": "code",
   "execution_count": null,
   "metadata": {},
   "outputs": [],
   "source": [
    "# Mars facts\n",
    "facts_url = \"https://space-facts.com/mars/\"\n",
    "\n",
    "# read html tables\n",
    "tables = pd.read_html(facts_url)\n",
    "\n",
    "# second table is facts\n",
    "facts_table = tables[1]\n",
    "\n",
    "# rename default unnamed columns\n",
    "facts_table = facts_table.rename(columns={0: \"Description\", 1: \"Value\"})\n",
    "\n",
    "# drop default index and set it to first data column\n",
    "facts_table = facts_table.set_index(\"Description\")\n",
    "\n",
    "if debug_mode:\n",
    "    print(facts_table)"
   ]
  },
  {
   "cell_type": "code",
   "execution_count": null,
   "metadata": {},
   "outputs": [],
   "source": [
    "# make a new html table, but drop the newline characters\n",
    "facts_html = facts_table.to_html().replace('\\n', '')\n",
    "\n",
    "if debug_mode:\n",
    "    print(facts_html)"
   ]
  },
  {
   "cell_type": "code",
   "execution_count": null,
   "metadata": {},
   "outputs": [],
   "source": [
    "# Hemisphere images\n",
    "url_hemi_base = \"https://astrogeology.usgs.gov\"\n",
    "url = url_hemi_base + \"/search/results?q=hemisphere+enhanced&k1=target&v1=Mars\"\n",
    "\n",
    "browser.visit(url)\n",
    "\n",
    "# it takes a second for javascript to run and generate html of page\n",
    "time.sleep(1)\n",
    "\n",
    "html = browser.html"
   ]
  },
  {
   "cell_type": "code",
   "execution_count": null,
   "metadata": {},
   "outputs": [],
   "source": [
    "soup = BeautifulSoup(html, 'html.parser')"
   ]
  },
  {
   "cell_type": "code",
   "execution_count": null,
   "metadata": {},
   "outputs": [],
   "source": [
    "# All hemisphere links are in divs classed \"description\"\n",
    "links_list = soup.find_all(\"div\", class_=\"description\")\n",
    "    \n",
    "hemisphere_image_urls = []\n",
    "\n",
    "# loop through list of hemisphere links\n",
    "for link in links_list:\n",
    "    # image title is text of anchor link\n",
    "    img_title = link.a.text\n",
    "    \n",
    "    # link to this hemisphere page\n",
    "    link_url = url_hemi_base + link.a.get(\"href\")\n",
    "    \n",
    "    # visit this hemisphere\n",
    "    browser.visit(link_url)\n",
    "\n",
    "    # it takes a second for javascript to run and generate html of page\n",
    "    time.sleep(1)\n",
    "\n",
    "    link_html = browser.html\n",
    "    \n",
    "    soup_link = BeautifulSoup(link_html, 'html.parser')\n",
    "    \n",
    "    # get the src of wide-image class for full size hemisphere image\n",
    "    img_url = soup_link.find(\"img\", class_=\"wide-image\").get(\"src\")\n",
    "    img_url = url_hemi_base + img_url\n",
    "    \n",
    "    # put title and url in a dictionary\n",
    "    img_dict = {\"title\": img_title, \"img_url\": img_url}\n",
    "    \n",
    "    # push dictionary into list of all hemispheres\n",
    "    hemisphere_image_urls.append(img_dict)\n",
    "    \n",
    "if debug_mode:\n",
    "    print(hemisphere_image_urls)"
   ]
  },
  {
   "cell_type": "code",
   "execution_count": null,
   "metadata": {},
   "outputs": [],
   "source": [
    "# create a big dictionary with all mars data\n",
    "mars_dict = {\n",
    "    \"news_title\": news_title,\n",
    "    \"news_p\": news_p,\n",
    "    \"featured_img_url\": featured_img_url,\n",
    "    \"mars_weather\": mars_weather,\n",
    "    \"facts_html\": facts_html,\n",
    "    \"hemisphere_image_urls\": hemisphere_image_urls\n",
    "}\n",
    "\n",
    "if debug_mode:\n",
    "    pprint(mars_dict)"
   ]
  },
  {
   "cell_type": "code",
   "execution_count": null,
   "metadata": {},
   "outputs": [],
   "source": [
    "browser.quit()"
   ]
  },
  {
   "cell_type": "code",
   "execution_count": null,
   "metadata": {},
   "outputs": [],
   "source": []
  }
 ],
 "metadata": {
  "kernelspec": {
   "display_name": "Python 3",
   "language": "python",
   "name": "python3"
  },
  "language_info": {
   "codemirror_mode": {
    "name": "ipython",
    "version": 3
   },
   "file_extension": ".py",
   "mimetype": "text/x-python",
   "name": "python",
   "nbconvert_exporter": "python",
   "pygments_lexer": "ipython3",
   "version": "3.6.8"
  }
 },
 "nbformat": 4,
 "nbformat_minor": 2
}
